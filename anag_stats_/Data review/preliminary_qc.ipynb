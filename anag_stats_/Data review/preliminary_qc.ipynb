{
 "cells": [
  {
   "cell_type": "markdown",
   "metadata": {},
   "source": [
    "# Preliminary exploratory notebook\n",
    "\n",
    "From the pilot I want to look through the data thus far and see if there are particular anagrams, responding, or patterns that we need to address before collecting more. \n",
    "\n",
    "Key things to see: \n",
    "    - do people respond with real words\n",
    "    - do people respond with the intended correct word\n",
    "    - what are the kinds of RTs that we see\n",
    "    - are some anagrams simply too difficult"
   ]
  },
  {
   "cell_type": "code",
   "execution_count": 5,
   "metadata": {},
   "outputs": [],
   "source": [
    "import pandas as pd\n",
    "# update to the file name to be read\n",
    "# the header is the row that has the collumn names (zero indexed, and verify which is the header row before running)\n",
    "# the sep is the seperator of the data\n",
    "df = pd.read_csv(\"anagram_rating_pilot_filtered_20240808_1713.csv\", header=0, sep=',')"
   ]
  },
  {
   "cell_type": "markdown",
   "metadata": {},
   "source": [
    "Lets make a file that is the anagram id number in collumn A, the anagram in B, the correct word in C, and the responses in D."
   ]
  },
  {
   "cell_type": "code",
   "execution_count": 6,
   "metadata": {},
   "outputs": [],
   "source": [
    "grammerdf = df.filter(['id', 'anagram', 'response']).dropna()\n",
    "grammerdf = grammerdf[~((grammerdf['id'] == 'practice') | (grammerdf['id']== 'end_confirm_subjid'))]\n",
    "grammerdf_grouped = grammerdf.groupby('id').agg({'anagram': 'first', 'response': ' '.join}).reset_index()"
   ]
  },
  {
   "cell_type": "markdown",
   "metadata": {},
   "source": [
    "From the experiment, grab the stimuli file and add to working directory. Using node in the terminal run the javascript to convert it to a json. That way we can bring it into this notebook. "
   ]
  },
  {
   "cell_type": "code",
   "execution_count": 7,
   "metadata": {},
   "outputs": [],
   "source": [
    "#import the stimuli file from the experiment (since this ensures the same data and lists)\n",
    "import json\n",
    "with open('stimuli.json') as f:\n",
    "    stimuli = json.load(f)\n",
    "\n",
    "#remove the brackets and separate cols by the comma \n",
    "stimuli = pd.DataFrame(stimuli)\n",
    "stimulidf = stimuli.filter(['id', 'anagram', 'correct']).drop_duplicates()\n",
    "#merge the two dataframes\n",
    "merged = pd.merge(grammerdf_grouped, stimulidf, on='id', how='left').drop_duplicates()\n",
    "merged = merged.filter(['id', 'anagram_x', 'correct', 'response'])\n"
   ]
  },
  {
   "cell_type": "markdown",
   "metadata": {},
   "source": [
    "Lets start getting some information about the anagrams now that we have the correct collumn added, lets see a proportion of responses that match the correct one.  \n",
    "\n",
    "When we have that lets then start thinking about the RT. "
   ]
  },
  {
   "cell_type": "code",
   "execution_count": 8,
   "metadata": {},
   "outputs": [],
   "source": [
    "anagram_stat = merged['response'].str.split(' ', expand=True)\n",
    "anagram_stat.columns = ['response1', 'response2', 'response3', 'response4', 'response5', 'response6', 'response7', 'response8', 'response9', 'response10']\n",
    "anagram_stat = pd.concat([merged, anagram_stat], axis=1)\n",
    "\n",
    "# Count the number of responses that match the 'correct' column\n",
    "anagram_stat['match_count'] = anagram_stat[['response1', 'response2', 'response3', 'response4', 'response5', 'response6', 'response7', 'response8', 'response9', 'response10']].apply(lambda row: (row == anagram_stat.loc[row.name, 'correct']).sum(), axis=1)\n",
    "\n",
    "# Insert the new column next to the 'id' column\n",
    "id_index = anagram_stat.columns.get_loc('id')\n",
    "cols = anagram_stat.columns.tolist()\n",
    "cols.insert(id_index + 1, cols.pop(cols.index('match_count')))\n",
    "anagram_stat = anagram_stat[cols]\n",
    "\n",
    "# Count the number of responses that are not empty\n",
    "anagram_stat['response_count'] = anagram_stat[['response1', 'response2', 'response3', 'response4', 'response5', 'response6', 'response7', 'response8', 'response9', 'response10']].apply(lambda row: row.notnull().sum(), axis=1)\n",
    "# Add to the df next to the id column\n",
    "cols = anagram_stat.columns.tolist()\n",
    "cols.insert(id_index + 1, cols.pop(cols.index('response_count')))\n",
    "anagram_stat = anagram_stat[cols]\n",
    "\n",
    "\n",
    "# Compute the ratio of correct responses to the total number of responses, ie. match_count / response_count\n",
    "anagram_stat['match_ratio'] = anagram_stat['match_count'] / anagram_stat['response_count']\n",
    "# Add to the df next to the id column\n",
    "cols = anagram_stat.columns.tolist()\n",
    "cols.insert(id_index + 1, cols.pop(cols.index('match_ratio')))\n",
    "anagram_stat = anagram_stat[cols]\n",
    "\n",
    "# Compute the number of responses that are not empty and do not match the correct response\n",
    "anagram_stat['non_match_count'] = anagram_stat['response_count'] - anagram_stat['match_count']\n",
    "# Add to the df next to the id column\n",
    "cols = anagram_stat.columns.tolist()\n",
    "cols.insert(id_index + 1, cols.pop(cols.index('non_match_count')))\n",
    "anagram_stat = anagram_stat[cols]\n",
    "\n",
    "# ------ Below is the save out codes ------\n",
    "# Make a timestamp for the file name so we know when the this notebook was run\n",
    "# from datetime import datetime\n",
    "# now = datetime.now()\n",
    "# dt_string = now.strftime(\"%Y%m%d_%H%M\")\n",
    "# timestamped = 'anagram_statistics' + dt_string + '.csv'\n",
    "# df.to_csv(timestamped, index=False)\n",
    "# # okay nowe we can save the anagram_stat dataframe to a csv file\n",
    "# anagram_stat.drop(['response'], axis=1).to_csv(timestamped, index=False)"
   ]
  },
  {
   "cell_type": "markdown",
   "metadata": {},
   "source": []
  },
  {
   "cell_type": "markdown",
   "metadata": {},
   "source": [
    "# Preproc of the responses\n",
    "\n",
    "- Remove spaces\n",
    "- Lower case everything\n",
    "- Remove non letter characters "
   ]
  },
  {
   "cell_type": "markdown",
   "metadata": {},
   "source": [
    "## Checking the response\n",
    " \n",
    "- String length match \n",
    "- Create list and sort list and test for equality of target vs response\n",
    "- If all above is true then test if the response is a real english word. "
   ]
  },
  {
   "cell_type": "code",
   "execution_count": null,
   "metadata": {},
   "outputs": [],
   "source": []
  }
 ],
 "metadata": {
  "kernelspec": {
   "display_name": "Python (miniconda3)",
   "language": "python",
   "name": "miniconda3"
  },
  "language_info": {
   "codemirror_mode": {
    "name": "ipython",
    "version": 3
   },
   "file_extension": ".py",
   "mimetype": "text/x-python",
   "name": "python",
   "nbconvert_exporter": "python",
   "pygments_lexer": "ipython3",
   "version": "3.12.1"
  }
 },
 "nbformat": 4,
 "nbformat_minor": 2
}
