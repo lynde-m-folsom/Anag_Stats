{
 "cells": [
  {
   "cell_type": "markdown",
   "metadata": {},
   "source": [
    "# Preliminary exploratory notebook\n",
    "\n",
    "From the pilot I want to look through the data thus far and see if there are particular anagrams, responding, or patterns that we need to address before collecting more. \n",
    "\n",
    "Key things to see: \n",
    "    - do people respond with real words\n",
    "    - do people respond with the intended correct word\n",
    "    - what are the kinds of RTs that we see\n",
    "    - are some anagrams simply too difficult"
   ]
  },
  {
   "cell_type": "code",
   "execution_count": 1,
   "metadata": {},
   "outputs": [],
   "source": [
    "import pandas as pd\n",
    "# update to the file name to be read\n",
    "# the header is the row that has the collumn names (zero indexed, and verify which is the header row before running)\n",
    "# the sep is the seperator of the data\n",
    "df = pd.read_csv(\"anagram_rating_pilot_filtered_20240808_1713.csv\", header=0, sep=',')"
   ]
  },
  {
   "cell_type": "markdown",
   "metadata": {},
   "source": [
    "Lets make a file that is the anagram id number in collumn A, the anagram in B, the correct word in C, and the responses in D."
   ]
  },
  {
   "cell_type": "code",
   "execution_count": 2,
   "metadata": {},
   "outputs": [],
   "source": [
    "grammerdf = df.filter(['id', 'anagram', 'response']).dropna()\n",
    "grammerdf = grammerdf[~((grammerdf['id'] == 'practice') | (grammerdf['id']== 'end_confirm_subjid'))]\n",
    "grammerdf_grouped = grammerdf.groupby('id').agg({'anagram': 'first', 'response': ' '.join}).reset_index()\n"
   ]
  },
  {
   "cell_type": "markdown",
   "metadata": {},
   "source": [
    "From the experiment, grab the stimuli file and add to working directory. Using node in the terminal run the javascript to convert it to a json. That way we can bring it into this notebook. "
   ]
  },
  {
   "cell_type": "code",
   "execution_count": 3,
   "metadata": {},
   "outputs": [],
   "source": [
    "#import the stimuli file from the experiment (since this ensures the same data and lists)\n",
    "import json\n",
    "with open('stimuli.json') as f:\n",
    "    stimuli = json.load(f)\n",
    "\n",
    "#remove the brackets and separate cols by the comma \n",
    "stimuli = pd.DataFrame(stimuli)\n",
    "stimulidf = stimuli.filter(['id', 'anagram', 'correct']).drop_duplicates()\n",
    "#merge the two dataframes\n",
    "merged = pd.merge(grammerdf_grouped, stimulidf, on='id', how='left').drop_duplicates()\n",
    "merged = merged.filter(['id', 'anagram_x', 'correct', 'response'])\n"
   ]
  },
  {
   "cell_type": "markdown",
   "metadata": {},
   "source": [
    "Lets start getting some information about the anagrams now that we have the correct collumn added, lets see a proportion of responses that match the correct one.  \n",
    "\n",
    "When we have that lets then start thinking about the RT. "
   ]
  },
  {
   "cell_type": "code",
   "execution_count": 4,
   "metadata": {},
   "outputs": [],
   "source": [
    "anagram_stat = merged['response'].str.split(' ', expand=True)\n",
    "anagram_stat.columns = ['response1', 'response2', 'response3', 'response4', 'response5', 'response6', 'response7', 'response8', 'response9', 'response10']\n",
    "anagram_stat = pd.concat([merged, anagram_stat], axis=1)\n",
    "\n",
    "# Count the number of responses that match the 'correct' column\n",
    "anagram_stat['match_count'] = anagram_stat[['response1', 'response2', 'response3', 'response4', 'response5', 'response6', 'response7', 'response8', 'response9', 'response10']].apply(lambda row: (row == anagram_stat.loc[row.name, 'correct']).sum(), axis=1)\n",
    "\n",
    "# Insert the new column next to the 'id' column\n",
    "id_index = anagram_stat.columns.get_loc('id')\n",
    "cols = anagram_stat.columns.tolist()\n",
    "cols.insert(id_index + 1, cols.pop(cols.index('match_count')))\n",
    "anagram_stat = anagram_stat[cols]\n",
    "\n",
    "# Count the number of responses that are not empty\n",
    "anagram_stat['response_count'] = anagram_stat[['response1', 'response2', 'response3', 'response4', 'response5', 'response6', 'response7', 'response8', 'response9', 'response10']].apply(lambda row: row.notnull().sum(), axis=1)\n",
    "# Add to the df next to the id column\n",
    "cols = anagram_stat.columns.tolist()\n",
    "cols.insert(id_index + 1, cols.pop(cols.index('response_count')))\n",
    "anagram_stat = anagram_stat[cols]\n",
    "\n",
    "\n",
    "# Compute the ratio of correct responses to the total number of responses, ie. match_count / response_count\n",
    "anagram_stat['match_ratio'] = anagram_stat['match_count'] / anagram_stat['response_count']\n",
    "# Add to the df next to the id column\n",
    "cols = anagram_stat.columns.tolist()\n",
    "cols.insert(id_index + 1, cols.pop(cols.index('match_ratio')))\n",
    "anagram_stat = anagram_stat[cols]\n",
    "\n",
    "# Compute the number of responses that are not empty and do not match the correct response\n",
    "anagram_stat['non_match_count'] = anagram_stat['response_count'] - anagram_stat['match_count']\n",
    "# Add to the df next to the id column\n",
    "cols = anagram_stat.columns.tolist()\n",
    "cols.insert(id_index + 1, cols.pop(cols.index('non_match_count')))\n",
    "anagram_stat = anagram_stat[cols]\n"
   ]
  },
  {
   "cell_type": "markdown",
   "metadata": {},
   "source": [
    "# Preproc of the responses\n",
    "\n",
    "- Remove spaces\n",
    "- Lower case everything\n",
    "- Remove non letter characters "
   ]
  },
  {
   "cell_type": "code",
   "execution_count": 5,
   "metadata": {},
   "outputs": [
    {
     "name": "stderr",
     "output_type": "stream",
     "text": [
      "/var/folders/4n/6xdj3h3x4v94vpyhm5330k280000gn/T/ipykernel_53383/259965843.py:3: FutureWarning: DataFrame.applymap has been deprecated. Use DataFrame.map instead.\n",
      "  responses = responses.applymap(lambda x: x.replace(\" \", \"\") if isinstance(x, str) else x) # remove spaces\n",
      "/var/folders/4n/6xdj3h3x4v94vpyhm5330k280000gn/T/ipykernel_53383/259965843.py:4: FutureWarning: DataFrame.applymap has been deprecated. Use DataFrame.map instead.\n",
      "  responses = responses.applymap(lambda x: x.lower() if isinstance(x, str) else x) # make lower case\n",
      "/var/folders/4n/6xdj3h3x4v94vpyhm5330k280000gn/T/ipykernel_53383/259965843.py:5: FutureWarning: DataFrame.applymap has been deprecated. Use DataFrame.map instead.\n",
      "  responses = responses.applymap(lambda x: ''.join(filter(str.isalpha, x)) if isinstance(x, str) else x) # remove non alphabetical characters\n"
     ]
    }
   ],
   "source": [
    "# For the responses we are going to process them to remove spaces, make all lower case, and remove non alphabetical characters\n",
    "responses = anagram_stat.filter(['response1', 'response2', 'response3', 'response4', 'response5', 'response6', 'response7', 'response8', 'response9', 'response10'])\n",
    "responses = responses.applymap(lambda x: x.replace(\" \", \"\") if isinstance(x, str) else x) # remove spaces\n",
    "responses = responses.applymap(lambda x: x.lower() if isinstance(x, str) else x) # make lower case\n",
    "responses = responses.applymap(lambda x: ''.join(filter(str.isalpha, x)) if isinstance(x, str) else x) # remove non alphabetical characters\n",
    "# Add the ID back to the responses\n",
    "responses['id'] = anagram_stat['id']\n"
   ]
  },
  {
   "cell_type": "markdown",
   "metadata": {},
   "source": [
    "## Checking the response\n",
    " \n",
    "- String length match \n",
    "- Create list and sort list and test for equality of target vs response\n",
    "- If all above is true then test if the response is a real english word. "
   ]
  },
  {
   "cell_type": "code",
   "execution_count": 6,
   "metadata": {},
   "outputs": [
    {
     "name": "stderr",
     "output_type": "stream",
     "text": [
      "/var/folders/4n/6xdj3h3x4v94vpyhm5330k280000gn/T/ipykernel_53383/170734273.py:2: FutureWarning: DataFrame.applymap has been deprecated. Use DataFrame.map instead.\n",
      "  string_length = responses.applymap(lambda x: len(x) if isinstance(x, str) else 0)\n"
     ]
    }
   ],
   "source": [
    "#1. Now for the responses, what the string legnth is for each and then compare to the correct answer string length. If the string length is different then we know the response is invalid.\n",
    "string_length = responses.applymap(lambda x: len(x) if isinstance(x, str) else 0)\n",
    "string_length['correct'] = anagram_stat['correct'].apply(lambda x: len(x)) # add the correct answer string length to the dataframe\n",
    "string_length['valid'] = string_length.apply(lambda row: sum(row[:-1] == row['correct']), axis=1) # compare the string length of the response to the correct answer sum the valid responses\n",
    "# In a QC df of responses, we drop the responses that are invalid based on string length\n",
    "# make a validate response function\n",
    "def validate_response_length(row):\n",
    "    correct_length = string_length['correct'][row.name]\n",
    "    return row.apply(lambda x: x if isinstance(x, str) and len(x) == correct_length else '')\n",
    "\n",
    "qc_responses = responses.apply(validate_response_length, axis=1)"
   ]
  },
  {
   "cell_type": "code",
   "execution_count": 7,
   "metadata": {},
   "outputs": [
    {
     "name": "stderr",
     "output_type": "stream",
     "text": [
      "/var/folders/4n/6xdj3h3x4v94vpyhm5330k280000gn/T/ipykernel_53383/1553544211.py:4: FutureWarning: DataFrame.applymap has been deprecated. Use DataFrame.map instead.\n",
      "  characters = responses.applymap(lambda x: Counter(x) if isinstance(x, str) else x)\n"
     ]
    }
   ],
   "source": [
    "from collections import Counter\n",
    "\n",
    "#2. Then we compare the characters used in the response to the correct answer, if there are different characters in the response (irrespective of order) then we know the response is invalid.\n",
    "characters = responses.applymap(lambda x: Counter(x) if isinstance(x, str) else x)\n",
    "characters['correct'] = anagram_stat['correct'].apply(lambda x: Counter(x))\n",
    "characters['valid'] = characters.apply(lambda row: sum(row[:-1] == row['correct']), axis=1)\n",
    "\n",
    "# We apply the same method to modify the qc_responses dataframe to only include valid responses based on characters used\n",
    "def validate_response_character(row):\n",
    "    correct_characters = characters['correct'][row.name]\n",
    "    return row.apply(lambda x: x if isinstance(x, str) and Counter(x) == correct_characters else '')\n",
    "\n",
    "qc_responses = qc_responses.apply(validate_response_character, axis=1)"
   ]
  },
  {
   "cell_type": "code",
   "execution_count": 8,
   "metadata": {},
   "outputs": [],
   "source": [
    "#3. Finally, if the response is the same length and uses the same characters, we check if that word is a real english word. If it is not a real english word then we know the response is invalid.\n",
    "# We can use the nltk library to check if a word is a real english word.\n",
    "#import nltk\n",
    "#nltk.download('words')\n",
    "#from nltk.corpus import words\n",
    "import json\n",
    "with open('words_dictionary.json') as f:\n",
    "    valid_words = json.load(f)\n",
    "\n",
    "# We can now use the valid_words set to check if a response is a valid english word\n",
    "def validate_response_word(row):\n",
    "    return row.apply(lambda x: x if isinstance(x, str) and x in valid_words else '')\n",
    "qc_responses = qc_responses.apply(validate_response_word, axis=1)\n",
    "# Once we know if a response is valid or invalid we can then calculate the accuracy of the response and add this to the anagram_stat dataframe as a new column."
   ]
  },
  {
   "cell_type": "markdown",
   "metadata": {},
   "source": [
    "### With a QC response fame Now\n",
    "Lets add to our stats df an accuracy collumn which is the sum of the number of qc'd responses for that anagram id. It'll be a col next to ID"
   ]
  },
  {
   "cell_type": "code",
   "execution_count": 9,
   "metadata": {},
   "outputs": [],
   "source": [
    "# Count the number of valid responses in the qc_responses dataframe and add this to the anagram_stat dataframe as a new column that is matched with the id. \n",
    "anagram_stat['valid_count'] = qc_responses.apply(lambda row: row.apply(lambda x: x != '').sum(), axis=1)\n",
    "# Add to the df next to the id column\n",
    "cols = anagram_stat.columns.tolist()\n",
    "cols.insert(id_index + 1, cols.pop(cols.index('valid_count')))\n",
    "anagram_stat = anagram_stat[cols]\n",
    "\n",
    "# Compute the ratio of valid responses to the total number of responses, ie. valid_count / response_count\n",
    "anagram_stat['valid_ratio'] = anagram_stat['valid_count'] / anagram_stat['response_count']\n",
    "# Add to the df next to the id column\n",
    "cols = anagram_stat.columns.tolist()\n",
    "cols.insert(id_index + 1, cols.pop(cols.index('valid_ratio')))\n",
    "anagram_stat = anagram_stat[cols]\n",
    "\n",
    "# add to the df next to the id column the \"corect\" column\n",
    "cols = anagram_stat.columns.tolist()\n",
    "cols.insert(id_index + 1, cols.pop(cols.index('correct')))\n",
    "anagram_stat = anagram_stat[cols]"
   ]
  },
  {
   "cell_type": "markdown",
   "metadata": {},
   "source": [
    "### The chunk below is for saving out\n",
    "Always make sure you recomment this chunk when you go to push the repo!"
   ]
  },
  {
   "cell_type": "code",
   "execution_count": 10,
   "metadata": {},
   "outputs": [],
   "source": [
    "# from datetime import datetime\n",
    "# now = datetime.now()\n",
    "# dt_string = now.strftime(\"%Y%m%d_%H%M\")\n",
    "# timestamped = 'anagram_statistics' + dt_string + '.csv'\n",
    "# df.to_csv(timestamped, index=False)\n",
    "# anagram_stat.drop(['response'], axis=1).to_csv(timestamped, index=False)"
   ]
  }
 ],
 "metadata": {
  "kernelspec": {
   "display_name": "base",
   "language": "python",
   "name": "python3"
  },
  "language_info": {
   "codemirror_mode": {
    "name": "ipython",
    "version": 3
   },
   "file_extension": ".py",
   "mimetype": "text/x-python",
   "name": "python",
   "nbconvert_exporter": "python",
   "pygments_lexer": "ipython3",
   "version": "3.12.1"
  }
 },
 "nbformat": 4,
 "nbformat_minor": 2
}
