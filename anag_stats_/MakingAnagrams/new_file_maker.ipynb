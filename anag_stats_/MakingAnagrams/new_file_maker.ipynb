{
 "cells": [
  {
   "cell_type": "code",
   "execution_count": 5,
   "metadata": {},
   "outputs": [],
   "source": [
    "import pandas\n",
    "import json\n"
   ]
  },
  {
   "cell_type": "code",
   "execution_count": 6,
   "metadata": {},
   "outputs": [
    {
     "data": {
      "text/html": [
       "<div>\n",
       "<style scoped>\n",
       "    .dataframe tbody tr th:only-of-type {\n",
       "        vertical-align: middle;\n",
       "    }\n",
       "\n",
       "    .dataframe tbody tr th {\n",
       "        vertical-align: top;\n",
       "    }\n",
       "\n",
       "    .dataframe thead th {\n",
       "        text-align: right;\n",
       "    }\n",
       "</style>\n",
       "<table border=\"1\" class=\"dataframe\">\n",
       "  <thead>\n",
       "    <tr style=\"text-align: right;\">\n",
       "      <th></th>\n",
       "      <th>root</th>\n",
       "      <th>shuffled</th>\n",
       "      <th>id</th>\n",
       "      <th>valid_words</th>\n",
       "      <th>length</th>\n",
       "      <th>Set</th>\n",
       "    </tr>\n",
       "  </thead>\n",
       "  <tbody>\n",
       "    <tr>\n",
       "      <th>0</th>\n",
       "      <td>have</td>\n",
       "      <td>veah</td>\n",
       "      <td>1</td>\n",
       "      <td>['have']</td>\n",
       "      <td>4</td>\n",
       "      <td>SetA</td>\n",
       "    </tr>\n",
       "    <tr>\n",
       "      <th>1</th>\n",
       "      <td>about</td>\n",
       "      <td>utabo</td>\n",
       "      <td>2</td>\n",
       "      <td>['about']</td>\n",
       "      <td>5</td>\n",
       "      <td>SetA</td>\n",
       "    </tr>\n",
       "    <tr>\n",
       "      <th>2</th>\n",
       "      <td>people</td>\n",
       "      <td>eplepo</td>\n",
       "      <td>3</td>\n",
       "      <td>['people']</td>\n",
       "      <td>6</td>\n",
       "      <td>SetA</td>\n",
       "    </tr>\n",
       "    <tr>\n",
       "      <th>3</th>\n",
       "      <td>will</td>\n",
       "      <td>wlli</td>\n",
       "      <td>4</td>\n",
       "      <td>['will']</td>\n",
       "      <td>4</td>\n",
       "      <td>SetA</td>\n",
       "    </tr>\n",
       "    <tr>\n",
       "      <th>4</th>\n",
       "      <td>there</td>\n",
       "      <td>hrete</td>\n",
       "      <td>5</td>\n",
       "      <td>['ether', 'there', 'three']</td>\n",
       "      <td>5</td>\n",
       "      <td>SetA</td>\n",
       "    </tr>\n",
       "  </tbody>\n",
       "</table>\n",
       "</div>"
      ],
      "text/plain": [
       "     root shuffled  id                  valid_words  length   Set\n",
       "0    have     veah   1                     ['have']       4  SetA\n",
       "1   about    utabo   2                    ['about']       5  SetA\n",
       "2  people   eplepo   3                   ['people']       6  SetA\n",
       "3    will     wlli   4                     ['will']       4  SetA\n",
       "4   there    hrete   5  ['ether', 'there', 'three']       5  SetA"
      ]
     },
     "execution_count": 6,
     "metadata": {},
     "output_type": "execute_result"
    }
   ],
   "source": [
    "full_list = pandas.read_csv('cat_full_list.csv')\n",
    "#full_list = full_list.drop('SetRun', axis=1)\n",
    "full_list.head()"
   ]
  },
  {
   "cell_type": "code",
   "execution_count": 7,
   "metadata": {},
   "outputs": [
    {
     "name": "stdout",
     "output_type": "stream",
     "text": [
      "2400\n",
      "{'id': '131', 'type': '5', 'anagram': 'rtsoy', 'correct': 'story', 'valid': \"['story']\", 'set': 'SetA', 'setRun': 'SetA1'}\n"
     ]
    }
   ],
   "source": [
    "target_sets = full_list['Set'].unique()\n",
    "nlists = 4\n",
    "rand_full_list = None \n",
    "\n",
    "for target_set in target_sets:\n",
    "    for list_num in range(1, nlists+1):\n",
    "        set_list_name = f'{target_set}{list_num}'\n",
    "        target_list = full_list[full_list['Set'] == target_set]\n",
    "        # randoly shuffle order of target list\n",
    "        target_list = target_list.sample(frac=1).reset_index(drop=True)\n",
    "        target_list['SetRun'] = set_list_name\n",
    "        if rand_full_list is None:\n",
    "            rand_full_list = target_list\n",
    "        else:\n",
    "            rand_full_list = pandas.concat([rand_full_list, target_list])\n",
    "\n",
    "\n",
    "def format_js_stimuli(df):\n",
    "    js_stimuli = []\n",
    "    for idx, row in df.iterrows():\n",
    "        js_entry = {\n",
    "                \"id\": str(row['id']),\n",
    "                \"type\": str(row['length']),\n",
    "                \"anagram\": row['shuffled'],\n",
    "                \"correct\": row['root'],\n",
    "                \"valid\": row['valid_words'],\n",
    "                \"set\": row['Set'],\n",
    "                \"setRun\": row['SetRun'],\n",
    "            }\n",
    "        js_stimuli.append(js_entry) \n",
    "    return js_stimuli\n",
    "\n",
    "rand_full_list_json = format_js_stimuli(rand_full_list)\n",
    "print(len(rand_full_list_json))\n",
    "print(rand_full_list_json[0])\n",
    "\n",
    "with open('rand_full_list.json', 'w') as f:\n",
    "    json.dump(rand_full_list_json, f, indent=4)\n",
    "\n",
    "with open('rand_full_list.json', 'r') as f:\n",
    "    rand_full_list_json_lines = f.readlines()\n",
    "\n",
    "first_line = \"let trial_objects = [\\n\" \n",
    "last_line = \"];\"\n",
    "rand_full_list_json_lines[0] = first_line\n",
    "rand_full_list_json_lines[-1] = last_line\n",
    "\n",
    "\n",
    "with open('stimuli.js', 'w') as f:\n",
    "    f.writelines(rand_full_list_json_lines)\n",
    "\n"
   ]
  }
 ],
 "metadata": {
  "kernelspec": {
   "display_name": "Python (miniconda3)",
   "language": "python",
   "name": "miniconda3"
  },
  "language_info": {
   "codemirror_mode": {
    "name": "ipython",
    "version": 3
   },
   "file_extension": ".py",
   "mimetype": "text/x-python",
   "name": "python",
   "nbconvert_exporter": "python",
   "pygments_lexer": "ipython3",
   "version": "3.12.1"
  }
 },
 "nbformat": 4,
 "nbformat_minor": 2
}
